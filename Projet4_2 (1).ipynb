{
 "cells": [
  {
   "cell_type": "markdown",
   "metadata": {},
   "source": [
    "# Notebook de modélisation des Emissions de CO2\n"
   ]
  },
  {
   "cell_type": "code",
   "execution_count": 1,
   "metadata": {},
   "outputs": [],
   "source": [
    "import pandas as pd\n",
    "import seaborn as sns\n",
    "import matplotlib.pyplot as plt\n",
    "import numpy as np"
   ]
  },
  {
   "cell_type": "code",
   "execution_count": 2,
   "metadata": {},
   "outputs": [],
   "source": [
    "from sklearn import linear_model\n",
    "import timeit\n",
    "from sklearn import metrics\n",
    "from sklearn.model_selection import GridSearchCV\n",
    "from sklearn.model_selection import cross_val_score\n",
    "from sklearn.model_selection import RandomizedSearchCV\n",
    "from sklearn.ensemble import RandomForestRegressor\n"
   ]
  },
  {
   "cell_type": "code",
   "execution_count": 3,
   "metadata": {},
   "outputs": [],
   "source": [
    "def catAnalysis(df, feature, x, y, figsize=(8,5), rotation=\"45\", palette=None, order=None):\n",
    "    \n",
    "    data = (pd.DataFrame(df[feature].value_counts())\n",
    "                .reset_index()\n",
    "                .rename(columns={'index': x, feature: y}))\n",
    "    \n",
    "    fig, ax = plt.subplots(figsize=figsize)\n",
    "    ax = sns.barplot(x=x, y=y, data=data, palette=palette, order=order);\n",
    "    plt.xticks(rotation=rotation)\n",
    "    plt.show()"
   ]
  },
  {
   "cell_type": "code",
   "execution_count": 4,
   "metadata": {},
   "outputs": [],
   "source": [
    "data = pd.read_csv('cleanData.csv')"
   ]
  },
  {
   "cell_type": "code",
   "execution_count": 5,
   "metadata": {},
   "outputs": [],
   "source": [
    "firsColumn = data.pop('Age')\n",
    "data.insert(2, 'Age', firsColumn) "
   ]
  },
  {
   "cell_type": "code",
   "execution_count": 6,
   "metadata": {},
   "outputs": [
    {
     "data": {
      "text/html": [
       "<div>\n",
       "<style scoped>\n",
       "    .dataframe tbody tr th:only-of-type {\n",
       "        vertical-align: middle;\n",
       "    }\n",
       "\n",
       "    .dataframe tbody tr th {\n",
       "        vertical-align: top;\n",
       "    }\n",
       "\n",
       "    .dataframe thead th {\n",
       "        text-align: right;\n",
       "    }\n",
       "</style>\n",
       "<table border=\"1\" class=\"dataframe\">\n",
       "  <thead>\n",
       "    <tr style=\"text-align: right;\">\n",
       "      <th></th>\n",
       "      <th>BuildingType</th>\n",
       "      <th>PrimaryPropertyType</th>\n",
       "      <th>Age</th>\n",
       "      <th>CouncilDistrictCode</th>\n",
       "      <th>Neighborhood</th>\n",
       "      <th>NumberofBuildings</th>\n",
       "      <th>NumberofFloors</th>\n",
       "      <th>PropertyGFATotal</th>\n",
       "      <th>ENERGYSTARScore</th>\n",
       "      <th>TotalGHGEmissions</th>\n",
       "      <th>SiteEnergyUse_log</th>\n",
       "    </tr>\n",
       "  </thead>\n",
       "  <tbody>\n",
       "    <tr>\n",
       "      <th>0</th>\n",
       "      <td>NonResidential</td>\n",
       "      <td>Mixed Use Property</td>\n",
       "      <td>89</td>\n",
       "      <td>7</td>\n",
       "      <td>DOWNTOWN</td>\n",
       "      <td>1.0</td>\n",
       "      <td>2.0</td>\n",
       "      <td>52549.0</td>\n",
       "      <td>65.416836</td>\n",
       "      <td>583.41</td>\n",
       "      <td>7.192677</td>\n",
       "    </tr>\n",
       "    <tr>\n",
       "      <th>1</th>\n",
       "      <td>NonResidential</td>\n",
       "      <td>Mixed Use Property</td>\n",
       "      <td>13</td>\n",
       "      <td>7</td>\n",
       "      <td>MAGNOLIA / QUEEN ANNE</td>\n",
       "      <td>1.0</td>\n",
       "      <td>4.0</td>\n",
       "      <td>110785.0</td>\n",
       "      <td>65.416836</td>\n",
       "      <td>91.53</td>\n",
       "      <td>7.025666</td>\n",
       "    </tr>\n",
       "    <tr>\n",
       "      <th>2</th>\n",
       "      <td>NonResidential</td>\n",
       "      <td>Small- and Mid-Sized Office</td>\n",
       "      <td>109</td>\n",
       "      <td>7</td>\n",
       "      <td>DOWNTOWN</td>\n",
       "      <td>1.0</td>\n",
       "      <td>6.0</td>\n",
       "      <td>98370.0</td>\n",
       "      <td>45.000000</td>\n",
       "      <td>47.24</td>\n",
       "      <td>6.814640</td>\n",
       "    </tr>\n",
       "    <tr>\n",
       "      <th>3</th>\n",
       "      <td>NonResidential</td>\n",
       "      <td>Large Office</td>\n",
       "      <td>68</td>\n",
       "      <td>7</td>\n",
       "      <td>LAKE UNION</td>\n",
       "      <td>1.0</td>\n",
       "      <td>4.0</td>\n",
       "      <td>193788.0</td>\n",
       "      <td>59.000000</td>\n",
       "      <td>116.84</td>\n",
       "      <td>7.224280</td>\n",
       "    </tr>\n",
       "    <tr>\n",
       "      <th>4</th>\n",
       "      <td>NonResidential</td>\n",
       "      <td>Small- and Mid-Sized Office</td>\n",
       "      <td>7</td>\n",
       "      <td>2</td>\n",
       "      <td>GREATER DUWAMISH</td>\n",
       "      <td>1.0</td>\n",
       "      <td>3.0</td>\n",
       "      <td>76598.0</td>\n",
       "      <td>76.000000</td>\n",
       "      <td>134.69</td>\n",
       "      <td>6.650987</td>\n",
       "    </tr>\n",
       "    <tr>\n",
       "      <th>...</th>\n",
       "      <td>...</td>\n",
       "      <td>...</td>\n",
       "      <td>...</td>\n",
       "      <td>...</td>\n",
       "      <td>...</td>\n",
       "      <td>...</td>\n",
       "      <td>...</td>\n",
       "      <td>...</td>\n",
       "      <td>...</td>\n",
       "      <td>...</td>\n",
       "      <td>...</td>\n",
       "    </tr>\n",
       "    <tr>\n",
       "      <th>1260</th>\n",
       "      <td>NonResidential</td>\n",
       "      <td>Other</td>\n",
       "      <td>1</td>\n",
       "      <td>2</td>\n",
       "      <td>GREATER DUWAMISH</td>\n",
       "      <td>1.0</td>\n",
       "      <td>2.0</td>\n",
       "      <td>108036.0</td>\n",
       "      <td>65.416836</td>\n",
       "      <td>91.98</td>\n",
       "      <td>6.698265</td>\n",
       "    </tr>\n",
       "    <tr>\n",
       "      <th>1261</th>\n",
       "      <td>NonResidential</td>\n",
       "      <td>Other</td>\n",
       "      <td>3</td>\n",
       "      <td>4</td>\n",
       "      <td>NORTHEAST</td>\n",
       "      <td>1.0</td>\n",
       "      <td>1.0</td>\n",
       "      <td>72000.0</td>\n",
       "      <td>65.416836</td>\n",
       "      <td>67.65</td>\n",
       "      <td>6.466242</td>\n",
       "    </tr>\n",
       "    <tr>\n",
       "      <th>1262</th>\n",
       "      <td>NonResidential</td>\n",
       "      <td>K-12 School</td>\n",
       "      <td>1</td>\n",
       "      <td>3</td>\n",
       "      <td>GREATER DUWAMISH</td>\n",
       "      <td>1.0</td>\n",
       "      <td>3.0</td>\n",
       "      <td>45000.0</td>\n",
       "      <td>77.000000</td>\n",
       "      <td>9.24</td>\n",
       "      <td>6.122535</td>\n",
       "    </tr>\n",
       "    <tr>\n",
       "      <th>1263</th>\n",
       "      <td>NonResidential</td>\n",
       "      <td>Mixed Use Property</td>\n",
       "      <td>1</td>\n",
       "      <td>7</td>\n",
       "      <td>LAKE UNION</td>\n",
       "      <td>1.0</td>\n",
       "      <td>6.0</td>\n",
       "      <td>345290.0</td>\n",
       "      <td>65.416836</td>\n",
       "      <td>1000.06</td>\n",
       "      <td>7.595101</td>\n",
       "    </tr>\n",
       "    <tr>\n",
       "      <th>1264</th>\n",
       "      <td>Nonresidential WA</td>\n",
       "      <td>University</td>\n",
       "      <td>54</td>\n",
       "      <td>4</td>\n",
       "      <td>NORTHEAST</td>\n",
       "      <td>1.0</td>\n",
       "      <td>1.0</td>\n",
       "      <td>68072.0</td>\n",
       "      <td>65.416836</td>\n",
       "      <td>22.17</td>\n",
       "      <td>6.502539</td>\n",
       "    </tr>\n",
       "  </tbody>\n",
       "</table>\n",
       "<p>1265 rows × 11 columns</p>\n",
       "</div>"
      ],
      "text/plain": [
       "           BuildingType          PrimaryPropertyType  Age  \\\n",
       "0        NonResidential           Mixed Use Property   89   \n",
       "1        NonResidential           Mixed Use Property   13   \n",
       "2        NonResidential  Small- and Mid-Sized Office  109   \n",
       "3        NonResidential                 Large Office   68   \n",
       "4        NonResidential  Small- and Mid-Sized Office    7   \n",
       "...                 ...                          ...  ...   \n",
       "1260     NonResidential                        Other    1   \n",
       "1261     NonResidential                        Other    3   \n",
       "1262     NonResidential                  K-12 School    1   \n",
       "1263     NonResidential           Mixed Use Property    1   \n",
       "1264  Nonresidential WA                   University   54   \n",
       "\n",
       "      CouncilDistrictCode           Neighborhood  NumberofBuildings  \\\n",
       "0                       7               DOWNTOWN                1.0   \n",
       "1                       7  MAGNOLIA / QUEEN ANNE                1.0   \n",
       "2                       7               DOWNTOWN                1.0   \n",
       "3                       7             LAKE UNION                1.0   \n",
       "4                       2       GREATER DUWAMISH                1.0   \n",
       "...                   ...                    ...                ...   \n",
       "1260                    2       GREATER DUWAMISH                1.0   \n",
       "1261                    4              NORTHEAST                1.0   \n",
       "1262                    3       GREATER DUWAMISH                1.0   \n",
       "1263                    7             LAKE UNION                1.0   \n",
       "1264                    4              NORTHEAST                1.0   \n",
       "\n",
       "      NumberofFloors  PropertyGFATotal  ENERGYSTARScore  TotalGHGEmissions  \\\n",
       "0                2.0           52549.0        65.416836             583.41   \n",
       "1                4.0          110785.0        65.416836              91.53   \n",
       "2                6.0           98370.0        45.000000              47.24   \n",
       "3                4.0          193788.0        59.000000             116.84   \n",
       "4                3.0           76598.0        76.000000             134.69   \n",
       "...              ...               ...              ...                ...   \n",
       "1260             2.0          108036.0        65.416836              91.98   \n",
       "1261             1.0           72000.0        65.416836              67.65   \n",
       "1262             3.0           45000.0        77.000000               9.24   \n",
       "1263             6.0          345290.0        65.416836            1000.06   \n",
       "1264             1.0           68072.0        65.416836              22.17   \n",
       "\n",
       "      SiteEnergyUse_log  \n",
       "0              7.192677  \n",
       "1              7.025666  \n",
       "2              6.814640  \n",
       "3              7.224280  \n",
       "4              6.650987  \n",
       "...                 ...  \n",
       "1260           6.698265  \n",
       "1261           6.466242  \n",
       "1262           6.122535  \n",
       "1263           7.595101  \n",
       "1264           6.502539  \n",
       "\n",
       "[1265 rows x 11 columns]"
      ]
     },
     "execution_count": 6,
     "metadata": {},
     "output_type": "execute_result"
    }
   ],
   "source": [
    "data"
   ]
  },
  {
   "cell_type": "code",
   "execution_count": null,
   "metadata": {},
   "outputs": [],
   "source": []
  },
  {
   "cell_type": "code",
   "execution_count": 7,
   "metadata": {},
   "outputs": [],
   "source": [
    "datacopy = data.copy()"
   ]
  },
  {
   "cell_type": "code",
   "execution_count": 8,
   "metadata": {},
   "outputs": [],
   "source": [
    "datacopy = datacopy.drop(['ENERGYSTARScore'], axis=1)"
   ]
  },
  {
   "cell_type": "code",
   "execution_count": 9,
   "metadata": {},
   "outputs": [],
   "source": [
    "target = ['TotalGHGEmissions','SiteEnergyUse_log']"
   ]
  },
  {
   "cell_type": "code",
   "execution_count": 10,
   "metadata": {},
   "outputs": [],
   "source": [
    "X = datacopy.drop(target, axis=1).values\n",
    "z = datacopy['SiteEnergyUse_log'].values\n",
    "y = datacopy['TotalGHGEmissions'].values\n",
    "\n"
   ]
  },
  {
   "cell_type": "code",
   "execution_count": 11,
   "metadata": {},
   "outputs": [],
   "source": [
    "from sklearn.preprocessing import LabelEncoder\n",
    "\n",
    "labelencoder_X_0 = LabelEncoder()\n",
    "X[:, 4] = labelencoder_X_0.fit_transform(X[:, 4])\n",
    "X[:, 0] = labelencoder_X_0.fit_transform(X[:, 0])\n",
    "X[:, 1] = labelencoder_X_0.fit_transform(X[:, 1])"
   ]
  },
  {
   "cell_type": "code",
   "execution_count": 12,
   "metadata": {},
   "outputs": [],
   "source": [
    "from sklearn.model_selection import train_test_split\n",
    "X_train, X_test, y_train, y_test = train_test_split(X, y, test_size = 0.2, random_state = 1)"
   ]
  },
  {
   "cell_type": "code",
   "execution_count": 13,
   "metadata": {},
   "outputs": [],
   "source": [
    "from sklearn.preprocessing import StandardScaler\n",
    "sc = StandardScaler()\n",
    "X_train= sc.fit_transform(X_train)\n",
    "X_test = sc.transform(X_test)"
   ]
  },
  {
   "cell_type": "code",
   "execution_count": null,
   "metadata": {},
   "outputs": [],
   "source": []
  },
  {
   "cell_type": "code",
   "execution_count": 14,
   "metadata": {},
   "outputs": [],
   "source": [
    "# Création d'un dataframe dans lequel seront stockées les performances des modèles testés\n",
    "model_comparison = pd.DataFrame()"
   ]
  },
  {
   "cell_type": "markdown",
   "metadata": {},
   "source": [
    "Pour éviter les répétitions, la fonction gridsearchCV est créée. Elle permet d'utiliser la fonction gridsearchCV de sklearn pour tester différentes combinaisons d'hyperparamètres et de pouvoir extraire les hyperparamètres associés au meilleur R²."
   ]
  },
  {
   "cell_type": "code",
   "execution_count": 15,
   "metadata": {},
   "outputs": [],
   "source": [
    "# Définir la fonction gridsearchresult pour obtenir les meilleurs hyperparamètre des différents modèle tester\n",
    "def gridsearchresults(model, param_grid, X_train, y_train, X_test, y_test):\n",
    "    grid = GridSearchCV(estimator=model, param_grid=param_grid, scoring='r2', verbose=3, n_jobs=-1)\n",
    "    \n",
    "    # Ajuster sur les différentes combinaisons de GridSearchCV\n",
    "    grid_result = grid.fit(X_train, y_train)\n",
    "    \n",
    "    #Afficher les meilleurs scores (r²) et meilleurs paramètres\n",
    "    print('Best Score: ', grid_result.best_score_)\n",
    "    print('Best Params: ', grid_result.best_params_)\n",
    "    \n",
    "    #Calculer les métrics avec sklearn.metrics et les afficher\n",
    "    mse = metrics.mean_squared_error(y_test, grid.predict(X_test))\n",
    "    rmse = np.sqrt(mse) #mse**(0.5)  \n",
    "    r2 = metrics.r2_score(y_test, grid.predict(X_test))\n",
    "    \n",
    "    print(\"Results of sklearn.metrics:\")\n",
    "    print(\"RMSE:\", rmse)\n",
    "    print(\"R-Squared:\", r2)"
   ]
  },
  {
   "cell_type": "markdown",
   "metadata": {},
   "source": [
    "La fonction suivante calcule les diverses métriques que l'on souhaite interpréter: Mean Absolute error (MAE), Root Mean Squarred Error (RMSE), le R squared et enfin le temps de test des combinaisons; et les retourne dans un dictionnaire."
   ]
  },
  {
   "cell_type": "code",
   "execution_count": 16,
   "metadata": {},
   "outputs": [],
   "source": [
    "def calcul_metrics(model,X_train, y_train, X_test, y_test):   \n",
    "    #Calculer les métrics avec sklearn.metrics et les afficher\n",
    "    mae = metrics.mean_absolute_error(y_test, model.predict(X_test))\n",
    "    mse = metrics.mean_squared_error(y_test, model.predict(X_test))\n",
    "    rmse = np.sqrt(mse) #mse**(0.5)  \n",
    "    r2 = metrics.r2_score(y_test, model.predict(X_test))\n",
    "    score = model.score(X_train, y_train)\n",
    "\n",
    "    \n",
    "    print(\"Results of sklearn.metrics:\")\n",
    "    print(\"Score:\", score)\n",
    "    print(\"MAE:\",mae)\n",
    "    print(\"MSE:\", mse)\n",
    "    print(\"RMSE:\", rmse)\n",
    "    print(\"R-Squared:\", r2)\n",
    "    \n",
    "    return dict(Score= score, r2 = r2, RMSE = rmse, MAE = mae)"
   ]
  },
  {
   "cell_type": "code",
   "execution_count": 17,
   "metadata": {
    "scrolled": true
   },
   "outputs": [
    {
     "name": "stdout",
     "output_type": "stream",
     "text": [
      "Durée 0.30s\n",
      "Results of sklearn.metrics:\n",
      "Score: 0.33117207936532833\n",
      "MAE: 217.60625719160046\n",
      "MSE: 174630.67978026756\n",
      "RMSE: 417.88835803389827\n",
      "R-Squared: -0.10498390879132802\n"
     ]
    }
   ],
   "source": [
    "lr  = linear_model.LinearRegression()\n",
    "\n",
    "# Calculer le temps d'entraînement \n",
    "start_time = timeit.default_timer()\n",
    "\n",
    "# Ajuster les paramètres par rapport au données d'entraînements\n",
    "lr = lr.fit(X_train, y_train)\n",
    "\n",
    "duration_lr = timeit.default_timer() - start_time\n",
    "\n",
    "# Afficher le temps d'entraînement\n",
    "print ('Durée {:.2f}s'.format(duration_lr))\n",
    "\n",
    "# Calculer les métriques du modèles et créer un dictionnaire de ces données à insérer dans un df\n",
    "lr_result = calcul_metrics(lr,X_train, y_train, X_test, y_test)\n",
    "model_comparison = model_comparison.append(lr_result, ignore_index=True)"
   ]
  },
  {
   "cell_type": "markdown",
   "metadata": {},
   "source": [
    "##### SVR"
   ]
  },
  {
   "cell_type": "code",
   "execution_count": 18,
   "metadata": {},
   "outputs": [],
   "source": [
    "from sklearn.svm import LinearSVR\n",
    "svr = LinearSVR()\n",
    "\n",
    "param_grid = {'C' : np.logspace(-4, 0, 5),\n",
    "             'epsilon' : [ 0.01, 0.1, 0.5, 1, 2],\n",
    "             'loss' : [\"epsilon_insensitive\",\"squared_epsilon_insensitive\"],\n",
    "             'max_iter': [100, 1000, 10000]}"
   ]
  },
  {
   "cell_type": "code",
   "execution_count": 19,
   "metadata": {},
   "outputs": [
    {
     "name": "stdout",
     "output_type": "stream",
     "text": [
      "Fitting 5 folds for each of 150 candidates, totalling 750 fits\n",
      "Best Score:  0.2507447859505814\n",
      "Best Params:  {'C': 0.01, 'epsilon': 0.01, 'loss': 'squared_epsilon_insensitive', 'max_iter': 1000}\n",
      "Results of sklearn.metrics:\n",
      "RMSE: 377.0889102082115\n",
      "R-Squared: 0.10024777350302216\n"
     ]
    }
   ],
   "source": [
    "gridsearchresults(svr, param_grid, X_train, y_train, X_test, y_test)\n"
   ]
  },
  {
   "cell_type": "code",
   "execution_count": 20,
   "metadata": {},
   "outputs": [
    {
     "name": "stdout",
     "output_type": "stream",
     "text": [
      "Durée 0.01s\n"
     ]
    }
   ],
   "source": [
    "svr = LinearSVR( epsilon=0.01, tol=0.0001, C=0.01, loss='squared_epsilon_insensitive', max_iter= 1000)\n",
    "start_time = timeit.default_timer()\n",
    "\n",
    "svr = svr.fit(X_train, y_train)\n",
    "\n",
    "duration_svr = timeit.default_timer() - start_time\n",
    "print('Durée {:.2f}s'.format(duration_svr))\n"
   ]
  },
  {
   "cell_type": "code",
   "execution_count": 21,
   "metadata": {},
   "outputs": [
    {
     "name": "stdout",
     "output_type": "stream",
     "text": [
      "Results of sklearn.metrics:\n",
      "Score: 0.3214923483502019\n",
      "MAE: 194.97726144453014\n",
      "MSE: 142197.2672347539\n",
      "RMSE: 377.0905292297248\n",
      "R-Squared: 0.10024004736046488\n"
     ]
    }
   ],
   "source": [
    "svr_result = calcul_metrics(svr,X_train, y_train, X_test, y_test)\n"
   ]
  },
  {
   "cell_type": "code",
   "execution_count": 22,
   "metadata": {},
   "outputs": [],
   "source": [
    "model_comparison = model_comparison.append(svr_result, ignore_index=True)"
   ]
  },
  {
   "cell_type": "markdown",
   "metadata": {},
   "source": [
    "### Random Forest Regression"
   ]
  },
  {
   "cell_type": "code",
   "execution_count": 23,
   "metadata": {},
   "outputs": [
    {
     "name": "stdout",
     "output_type": "stream",
     "text": [
      "{'n_estimators': [200, 400, 600, 800, 1000, 1200, 1400, 1600, 1800, 2000], 'max_features': [2, 2, 3, 4, 4, 5, 6, 6, 7, 8], 'max_depth': [10, 20, 30, 40, 50, 60, 70, 80, 90, 100, 110, None], 'min_samples_split': [10, 50, 100, 300, 500], 'min_samples_leaf': [5, 25, 50, 150, 250], 'bootstrap': [True, False]}\n"
     ]
    }
   ],
   "source": [
    "n_estimators = [int(x) for x in np.linspace(start = 200, stop = 2000, num = 10)]\n",
    "max_features = [int(x) for x in np.linspace (start = 2, stop = X_train.shape[1], num = 10)]\n",
    "max_depth = [int(x) for x in np.linspace(10, 110, num = 11)]\n",
    "max_depth.append(None)\n",
    "min_samples_split = [10, 50, 100, 300, 500]\n",
    "min_samples_leaf = [5, 25, 50, 150, 250]\n",
    "bootstrap = [True, False]\n",
    "random_grid = {'n_estimators': n_estimators, \n",
    "               'max_features': max_features, \n",
    "               'max_depth': max_depth,\n",
    "               'min_samples_split': min_samples_split,\n",
    "               'min_samples_leaf': min_samples_leaf,\n",
    "               'bootstrap': bootstrap}\n",
    "print(random_grid)"
   ]
  },
  {
   "cell_type": "code",
   "execution_count": 24,
   "metadata": {},
   "outputs": [
    {
     "name": "stdout",
     "output_type": "stream",
     "text": [
      "Fitting 5 folds for each of 100 candidates, totalling 500 fits\n"
     ]
    },
    {
     "data": {
      "text/plain": [
       "RandomizedSearchCV(cv=5, estimator=RandomForestRegressor(), n_iter=100,\n",
       "                   n_jobs=-1,\n",
       "                   param_distributions={'bootstrap': [True, False],\n",
       "                                        'max_depth': [10, 20, 30, 40, 50, 60,\n",
       "                                                      70, 80, 90, 100, 110,\n",
       "                                                      None],\n",
       "                                        'max_features': [2, 2, 3, 4, 4, 5, 6, 6,\n",
       "                                                         7, 8],\n",
       "                                        'min_samples_leaf': [5, 25, 50, 150,\n",
       "                                                             250],\n",
       "                                        'min_samples_split': [10, 50, 100, 300,\n",
       "                                                              500],\n",
       "                                        'n_estimators': [200, 400, 600, 800,\n",
       "                                                         1000, 1200, 1400, 1600,\n",
       "                                                         1800, 2000]},\n",
       "                   random_state=42, verbose=2)"
      ]
     },
     "execution_count": 24,
     "metadata": {},
     "output_type": "execute_result"
    }
   ],
   "source": [
    "rfr = RandomForestRegressor()\n",
    "\n",
    "rfr_random = RandomizedSearchCV(\n",
    "    estimator = rfr, \n",
    "    param_distributions = random_grid, \n",
    "    n_iter = 100, \n",
    "    cv = 5, \n",
    "    verbose=2, \n",
    "    random_state=42, \n",
    "    n_jobs = -1)\n",
    "rfr_random.fit(X_train, y_train)"
   ]
  },
  {
   "cell_type": "code",
   "execution_count": 25,
   "metadata": {
    "scrolled": true
   },
   "outputs": [
    {
     "data": {
      "text/plain": [
       "{'n_estimators': 400,\n",
       " 'min_samples_split': 10,\n",
       " 'min_samples_leaf': 5,\n",
       " 'max_features': 7,\n",
       " 'max_depth': 110,\n",
       " 'bootstrap': False}"
      ]
     },
     "execution_count": 25,
     "metadata": {},
     "output_type": "execute_result"
    }
   ],
   "source": [
    "rfr_random.best_params_"
   ]
  },
  {
   "cell_type": "code",
   "execution_count": 26,
   "metadata": {},
   "outputs": [],
   "source": [
    "param_grid = {\n",
    "    'bootstrap': [False],\n",
    "    'max_depth': [10, 20, 40, 60, 80, 100, 110 ],\n",
    "    'max_features':[7],\n",
    "    'min_samples_leaf': [5, 10, 20],\n",
    "    'min_samples_split': [10, 20, 40],\n",
    "    'n_estimators': [400, 800]\n",
    "}\n",
    "\n",
    "# Create a based model\n",
    "rfr = RandomForestRegressor()"
   ]
  },
  {
   "cell_type": "code",
   "execution_count": 27,
   "metadata": {},
   "outputs": [
    {
     "name": "stdout",
     "output_type": "stream",
     "text": [
      "Fitting 5 folds for each of 126 candidates, totalling 630 fits\n",
      "Best Score:  0.44395236318789477\n",
      "Best Params:  {'bootstrap': False, 'max_depth': 80, 'max_features': 7, 'min_samples_leaf': 5, 'min_samples_split': 10, 'n_estimators': 400}\n",
      "Results of sklearn.metrics:\n",
      "RMSE: 406.0667702612185\n",
      "R-Squared: -0.043350699643705415\n"
     ]
    }
   ],
   "source": [
    "gridsearchresults(rfr, param_grid, X_train, y_train, X_test, y_test)"
   ]
  },
  {
   "cell_type": "code",
   "execution_count": 28,
   "metadata": {},
   "outputs": [
    {
     "name": "stdout",
     "output_type": "stream",
     "text": [
      "Durée 7.55s\n"
     ]
    }
   ],
   "source": [
    "rfr =  RandomForestRegressor(bootstrap= False, \n",
    "                             max_depth= 20, \n",
    "                             max_features= 7, \n",
    "                             min_samples_leaf= 5, \n",
    "                             min_samples_split=10, \n",
    "                             n_estimators= 400)\n",
    "start_time = timeit.default_timer()\n",
    "rfr = rfr.fit(X_train, y_train)\n",
    "duration_rfr = timeit.default_timer() - start_time\n",
    "print('Durée {:.2f}s'.format(duration_rfr))"
   ]
  },
  {
   "cell_type": "code",
   "execution_count": 29,
   "metadata": {},
   "outputs": [
    {
     "name": "stdout",
     "output_type": "stream",
     "text": [
      "Results of sklearn.metrics:\n",
      "Score: 0.6523105089962451\n",
      "MAE: 165.84109269497972\n",
      "MSE: 165137.25515363942\n",
      "RMSE: 406.37083452634664\n",
      "R-Squared: -0.044913814206878344\n"
     ]
    }
   ],
   "source": [
    "rfr_result = calcul_metrics(rfr,X_train, y_train, X_test, y_test)"
   ]
  },
  {
   "cell_type": "code",
   "execution_count": 30,
   "metadata": {},
   "outputs": [],
   "source": [
    "model_comparison = model_comparison.append(rfr_result, ignore_index=True)"
   ]
  },
  {
   "cell_type": "code",
   "execution_count": 31,
   "metadata": {},
   "outputs": [
    {
     "data": {
      "text/html": [
       "<div>\n",
       "<style scoped>\n",
       "    .dataframe tbody tr th:only-of-type {\n",
       "        vertical-align: middle;\n",
       "    }\n",
       "\n",
       "    .dataframe tbody tr th {\n",
       "        vertical-align: top;\n",
       "    }\n",
       "\n",
       "    .dataframe thead th {\n",
       "        text-align: right;\n",
       "    }\n",
       "</style>\n",
       "<table border=\"1\" class=\"dataframe\">\n",
       "  <thead>\n",
       "    <tr style=\"text-align: right;\">\n",
       "      <th></th>\n",
       "      <th>Score</th>\n",
       "      <th>r2</th>\n",
       "      <th>RMSE</th>\n",
       "      <th>MAE</th>\n",
       "    </tr>\n",
       "  </thead>\n",
       "  <tbody>\n",
       "    <tr>\n",
       "      <th>0</th>\n",
       "      <td>0.331172</td>\n",
       "      <td>-0.104984</td>\n",
       "      <td>417.888358</td>\n",
       "      <td>217.606257</td>\n",
       "    </tr>\n",
       "    <tr>\n",
       "      <th>1</th>\n",
       "      <td>0.321492</td>\n",
       "      <td>0.100240</td>\n",
       "      <td>377.090529</td>\n",
       "      <td>194.977261</td>\n",
       "    </tr>\n",
       "    <tr>\n",
       "      <th>2</th>\n",
       "      <td>0.652311</td>\n",
       "      <td>-0.044914</td>\n",
       "      <td>406.370835</td>\n",
       "      <td>165.841093</td>\n",
       "    </tr>\n",
       "  </tbody>\n",
       "</table>\n",
       "</div>"
      ],
      "text/plain": [
       "      Score        r2        RMSE         MAE\n",
       "0  0.331172 -0.104984  417.888358  217.606257\n",
       "1  0.321492  0.100240  377.090529  194.977261\n",
       "2  0.652311 -0.044914  406.370835  165.841093"
      ]
     },
     "execution_count": 31,
     "metadata": {},
     "output_type": "execute_result"
    }
   ],
   "source": [
    "model_comparison"
   ]
  },
  {
   "cell_type": "markdown",
   "metadata": {},
   "source": [
    "### Comparaison des modèles"
   ]
  },
  {
   "cell_type": "code",
   "execution_count": 32,
   "metadata": {},
   "outputs": [],
   "source": [
    "duration = [duration_lr, duration_svr, duration_rfr]\n",
    "modele = ['Reg Lin','SVR','RandomForest']"
   ]
  },
  {
   "cell_type": "code",
   "execution_count": 33,
   "metadata": {},
   "outputs": [],
   "source": [
    "model_comparison['duration'] = duration"
   ]
  },
  {
   "cell_type": "code",
   "execution_count": 34,
   "metadata": {},
   "outputs": [
    {
     "data": {
      "text/plain": [
       "['Reg Lin', 'SVR', 'RandomForest']"
      ]
     },
     "execution_count": 34,
     "metadata": {},
     "output_type": "execute_result"
    }
   ],
   "source": [
    "modele"
   ]
  },
  {
   "cell_type": "code",
   "execution_count": 40,
   "metadata": {},
   "outputs": [
    {
     "data": {
      "image/png": "[encoded data removed]",
      "text/plain": [
       "<Figure size 720x360 with 2 Axes>"
      ]
     },
     "metadata": {
      "needs_background": "light"
     },
     "output_type": "display_data"
    }
   ],
   "source": [
    "fig = plt.figure(figsize = (10,5))\n",
    "ax = fig.add_subplot(111)\n",
    "ax2 = ax.twinx()\n",
    "width = 0.1\n",
    "ind = np.arange(len(model_comparison))\n",
    "ax.set_ylabel('RMSE')\n",
    "ax2.set_ylabel(\"MAE\")\n",
    "ax.set_xlabel('modèle')\n",
    "ax.bar(ind, model_comparison.RMSE, width, color='blue', label = 'RMSE')\n",
    "ax2.bar(ind + width, model_comparison.MAE, width, color = 'orange', label = \"MAE\")\n",
    "ax.set(xticks = (ind + 1.5 * width), xticklabels = modele)\n",
    "ax.legend(['RMSE'], bbox_to_anchor = (1.2, 1))\n",
    "ax2.legend([\"MAE\"], bbox_to_anchor = (1.06, 0.87))\n",
    "plt.show()"
   ]
  },
  {
   "cell_type": "code",
   "execution_count": 39,
   "metadata": {},
   "outputs": [
    {
     "name": "stderr",
     "output_type": "stream",
     "text": [
      "C:\\Users\\hp\\anaconda3\\lib\\site-packages\\seaborn\\_decorators.py:36: FutureWarning: Pass the following variables as keyword args: x, y. From version 0.12, the only valid positional argument will be `data`, and passing other arguments without an explicit keyword will result in an error or misinterpretation.\n",
      "  warnings.warn(\n"
     ]
    },
    {
     "data": {
      "text/plain": [
       "<AxesSubplot:ylabel='RMSE'>"
      ]
     },
     "execution_count": 39,
     "metadata": {},
     "output_type": "execute_result"
    },
    {
     "data": {
      "image/png": "[encoded data removed]",
      "text/plain": [
       "<Figure size 432x288 with 1 Axes>"
      ]
     },
     "metadata": {
      "needs_background": "light"
     },
     "output_type": "display_data"
    }
   ],
   "source": [
    "sns.barplot(modele, model_comparison.RMSE)"
   ]
  },
  {
   "cell_type": "code",
   "execution_count": 40,
   "metadata": {},
   "outputs": [
    {
     "name": "stderr",
     "output_type": "stream",
     "text": [
      "Pass the following variables as keyword args: x, y. From version 0.12, the only valid positional argument will be `data`, and passing other arguments without an explicit keyword will result in an error or misinterpretation.\n"
     ]
    },
    {
     "data": {
      "text/plain": [
       "<AxesSubplot:ylabel='r2'>"
      ]
     },
     "execution_count": 40,
     "metadata": {},
     "output_type": "execute_result"
    },
    {
     "data": {
      "image/png": "[encoded data removed]",
      "text/plain": [
       "<Figure size 432x288 with 1 Axes>"
      ]
     },
     "metadata": {
      "needs_background": "light"
     },
     "output_type": "display_data"
    }
   ],
   "source": [
    "sns.barplot(modele, model_comparison.r2)"
   ]
  },
  {
   "cell_type": "code",
   "execution_count": null,
   "metadata": {},
   "outputs": [],
   "source": []
  },
  {
   "cell_type": "code",
   "execution_count": null,
   "metadata": {},
   "outputs": [],
   "source": []
  }
 ],
 "metadata": {
  "kernelspec": {
   "display_name": "Python 3 (ipykernel)",
   "language": "python",
   "name": "python3"
  },
  "language_info": {
   "codemirror_mode": {
    "name": "ipython",
    "version": 3
   },
   "file_extension": ".py",
   "mimetype": "text/x-python",
   "name": "python",
   "nbconvert_exporter": "python",
   "pygments_lexer": "ipython3",
   "version": "3.9.7"
  }
 },
 "nbformat": 4,
 "nbformat_minor": 4
}
