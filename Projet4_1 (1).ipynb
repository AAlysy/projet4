{
 "cells": [
  {
   "cell_type": "markdown",
   "metadata": {},
   "source": [
    "# Notebook de modélisation de SiteEnergyUse\n"
   ]
  },
  {
   "cell_type": "markdown",
   "metadata": {},
   "source": [
    "## Import des Librairies"
   ]
  },
  {
   "cell_type": "code",
   "execution_count": 1,
   "metadata": {},
   "outputs": [],
   "source": [
    "import pandas as pd\n",
    "import seaborn as sns\n",
    "import matplotlib.pyplot as plt\n",
    "import numpy as np"
   ]
  },
  {
   "cell_type": "code",
   "execution_count": 2,
   "metadata": {},
   "outputs": [],
   "source": [
    "from sklearn import linear_model\n",
    "import timeit\n",
    "from sklearn import metrics\n",
    "from sklearn.model_selection import GridSearchCV\n",
    "from sklearn.model_selection import cross_val_score\n",
    "from sklearn.model_selection import RandomizedSearchCV\n",
    "from sklearn.ensemble import RandomForestRegressor\n"
   ]
  },
  {
   "cell_type": "code",
   "execution_count": 3,
   "metadata": {},
   "outputs": [],
   "source": [
    "data = pd.read_csv('cleanData.csv')"
   ]
  },
  {
   "cell_type": "code",
   "execution_count": 4,
   "metadata": {},
   "outputs": [],
   "source": [
    "firsColumn = data.pop('Age')\n",
    "data.insert(2, 'Age', firsColumn) "
   ]
  },
  {
   "cell_type": "code",
   "execution_count": 5,
   "metadata": {},
   "outputs": [
    {
     "data": {
      "text/html": [
       "<div>\n",
       "<style scoped>\n",
       "    .dataframe tbody tr th:only-of-type {\n",
       "        vertical-align: middle;\n",
       "    }\n",
       "\n",
       "    .dataframe tbody tr th {\n",
       "        vertical-align: top;\n",
       "    }\n",
       "\n",
       "    .dataframe thead th {\n",
       "        text-align: right;\n",
       "    }\n",
       "</style>\n",
       "<table border=\"1\" class=\"dataframe\">\n",
       "  <thead>\n",
       "    <tr style=\"text-align: right;\">\n",
       "      <th></th>\n",
       "      <th>BuildingType</th>\n",
       "      <th>PrimaryPropertyType</th>\n",
       "      <th>Age</th>\n",
       "      <th>CouncilDistrictCode</th>\n",
       "      <th>Neighborhood</th>\n",
       "      <th>NumberofBuildings</th>\n",
       "      <th>NumberofFloors</th>\n",
       "      <th>PropertyGFATotal</th>\n",
       "      <th>ENERGYSTARScore</th>\n",
       "      <th>TotalGHGEmissions</th>\n",
       "      <th>SiteEnergyUse_log</th>\n",
       "    </tr>\n",
       "  </thead>\n",
       "  <tbody>\n",
       "    <tr>\n",
       "      <th>0</th>\n",
       "      <td>NonResidential</td>\n",
       "      <td>Mixed Use Property</td>\n",
       "      <td>89</td>\n",
       "      <td>7</td>\n",
       "      <td>DOWNTOWN</td>\n",
       "      <td>1.0</td>\n",
       "      <td>2.0</td>\n",
       "      <td>52549.0</td>\n",
       "      <td>65.416836</td>\n",
       "      <td>583.41</td>\n",
       "      <td>7.192677</td>\n",
       "    </tr>\n",
       "    <tr>\n",
       "      <th>1</th>\n",
       "      <td>NonResidential</td>\n",
       "      <td>Mixed Use Property</td>\n",
       "      <td>13</td>\n",
       "      <td>7</td>\n",
       "      <td>MAGNOLIA / QUEEN ANNE</td>\n",
       "      <td>1.0</td>\n",
       "      <td>4.0</td>\n",
       "      <td>110785.0</td>\n",
       "      <td>65.416836</td>\n",
       "      <td>91.53</td>\n",
       "      <td>7.025666</td>\n",
       "    </tr>\n",
       "    <tr>\n",
       "      <th>2</th>\n",
       "      <td>NonResidential</td>\n",
       "      <td>Small- and Mid-Sized Office</td>\n",
       "      <td>109</td>\n",
       "      <td>7</td>\n",
       "      <td>DOWNTOWN</td>\n",
       "      <td>1.0</td>\n",
       "      <td>6.0</td>\n",
       "      <td>98370.0</td>\n",
       "      <td>45.000000</td>\n",
       "      <td>47.24</td>\n",
       "      <td>6.814640</td>\n",
       "    </tr>\n",
       "    <tr>\n",
       "      <th>3</th>\n",
       "      <td>NonResidential</td>\n",
       "      <td>Large Office</td>\n",
       "      <td>68</td>\n",
       "      <td>7</td>\n",
       "      <td>LAKE UNION</td>\n",
       "      <td>1.0</td>\n",
       "      <td>4.0</td>\n",
       "      <td>193788.0</td>\n",
       "      <td>59.000000</td>\n",
       "      <td>116.84</td>\n",
       "      <td>7.224280</td>\n",
       "    </tr>\n",
       "    <tr>\n",
       "      <th>4</th>\n",
       "      <td>NonResidential</td>\n",
       "      <td>Small- and Mid-Sized Office</td>\n",
       "      <td>7</td>\n",
       "      <td>2</td>\n",
       "      <td>GREATER DUWAMISH</td>\n",
       "      <td>1.0</td>\n",
       "      <td>3.0</td>\n",
       "      <td>76598.0</td>\n",
       "      <td>76.000000</td>\n",
       "      <td>134.69</td>\n",
       "      <td>6.650987</td>\n",
       "    </tr>\n",
       "    <tr>\n",
       "      <th>...</th>\n",
       "      <td>...</td>\n",
       "      <td>...</td>\n",
       "      <td>...</td>\n",
       "      <td>...</td>\n",
       "      <td>...</td>\n",
       "      <td>...</td>\n",
       "      <td>...</td>\n",
       "      <td>...</td>\n",
       "      <td>...</td>\n",
       "      <td>...</td>\n",
       "      <td>...</td>\n",
       "    </tr>\n",
       "    <tr>\n",
       "      <th>1260</th>\n",
       "      <td>NonResidential</td>\n",
       "      <td>Other</td>\n",
       "      <td>1</td>\n",
       "      <td>2</td>\n",
       "      <td>GREATER DUWAMISH</td>\n",
       "      <td>1.0</td>\n",
       "      <td>2.0</td>\n",
       "      <td>108036.0</td>\n",
       "      <td>65.416836</td>\n",
       "      <td>91.98</td>\n",
       "      <td>6.698265</td>\n",
       "    </tr>\n",
       "    <tr>\n",
       "      <th>1261</th>\n",
       "      <td>NonResidential</td>\n",
       "      <td>Other</td>\n",
       "      <td>3</td>\n",
       "      <td>4</td>\n",
       "      <td>NORTHEAST</td>\n",
       "      <td>1.0</td>\n",
       "      <td>1.0</td>\n",
       "      <td>72000.0</td>\n",
       "      <td>65.416836</td>\n",
       "      <td>67.65</td>\n",
       "      <td>6.466242</td>\n",
       "    </tr>\n",
       "    <tr>\n",
       "      <th>1262</th>\n",
       "      <td>NonResidential</td>\n",
       "      <td>K-12 School</td>\n",
       "      <td>1</td>\n",
       "      <td>3</td>\n",
       "      <td>GREATER DUWAMISH</td>\n",
       "      <td>1.0</td>\n",
       "      <td>3.0</td>\n",
       "      <td>45000.0</td>\n",
       "      <td>77.000000</td>\n",
       "      <td>9.24</td>\n",
       "      <td>6.122535</td>\n",
       "    </tr>\n",
       "    <tr>\n",
       "      <th>1263</th>\n",
       "      <td>NonResidential</td>\n",
       "      <td>Mixed Use Property</td>\n",
       "      <td>1</td>\n",
       "      <td>7</td>\n",
       "      <td>LAKE UNION</td>\n",
       "      <td>1.0</td>\n",
       "      <td>6.0</td>\n",
       "      <td>345290.0</td>\n",
       "      <td>65.416836</td>\n",
       "      <td>1000.06</td>\n",
       "      <td>7.595101</td>\n",
       "    </tr>\n",
       "    <tr>\n",
       "      <th>1264</th>\n",
       "      <td>Nonresidential WA</td>\n",
       "      <td>University</td>\n",
       "      <td>54</td>\n",
       "      <td>4</td>\n",
       "      <td>NORTHEAST</td>\n",
       "      <td>1.0</td>\n",
       "      <td>1.0</td>\n",
       "      <td>68072.0</td>\n",
       "      <td>65.416836</td>\n",
       "      <td>22.17</td>\n",
       "      <td>6.502539</td>\n",
       "    </tr>\n",
       "  </tbody>\n",
       "</table>\n",
       "<p>1265 rows × 11 columns</p>\n",
       "</div>"
      ],
      "text/plain": [
       "           BuildingType          PrimaryPropertyType  Age  \\\n",
       "0        NonResidential           Mixed Use Property   89   \n",
       "1        NonResidential           Mixed Use Property   13   \n",
       "2        NonResidential  Small- and Mid-Sized Office  109   \n",
       "3        NonResidential                 Large Office   68   \n",
       "4        NonResidential  Small- and Mid-Sized Office    7   \n",
       "...                 ...                          ...  ...   \n",
       "1260     NonResidential                        Other    1   \n",
       "1261     NonResidential                        Other    3   \n",
       "1262     NonResidential                  K-12 School    1   \n",
       "1263     NonResidential           Mixed Use Property    1   \n",
       "1264  Nonresidential WA                   University   54   \n",
       "\n",
       "      CouncilDistrictCode           Neighborhood  NumberofBuildings  \\\n",
       "0                       7               DOWNTOWN                1.0   \n",
       "1                       7  MAGNOLIA / QUEEN ANNE                1.0   \n",
       "2                       7               DOWNTOWN                1.0   \n",
       "3                       7             LAKE UNION                1.0   \n",
       "4                       2       GREATER DUWAMISH                1.0   \n",
       "...                   ...                    ...                ...   \n",
       "1260                    2       GREATER DUWAMISH                1.0   \n",
       "1261                    4              NORTHEAST                1.0   \n",
       "1262                    3       GREATER DUWAMISH                1.0   \n",
       "1263                    7             LAKE UNION                1.0   \n",
       "1264                    4              NORTHEAST                1.0   \n",
       "\n",
       "      NumberofFloors  PropertyGFATotal  ENERGYSTARScore  TotalGHGEmissions  \\\n",
       "0                2.0           52549.0        65.416836             583.41   \n",
       "1                4.0          110785.0        65.416836              91.53   \n",
       "2                6.0           98370.0        45.000000              47.24   \n",
       "3                4.0          193788.0        59.000000             116.84   \n",
       "4                3.0           76598.0        76.000000             134.69   \n",
       "...              ...               ...              ...                ...   \n",
       "1260             2.0          108036.0        65.416836              91.98   \n",
       "1261             1.0           72000.0        65.416836              67.65   \n",
       "1262             3.0           45000.0        77.000000               9.24   \n",
       "1263             6.0          345290.0        65.416836            1000.06   \n",
       "1264             1.0           68072.0        65.416836              22.17   \n",
       "\n",
       "      SiteEnergyUse_log  \n",
       "0              7.192677  \n",
       "1              7.025666  \n",
       "2              6.814640  \n",
       "3              7.224280  \n",
       "4              6.650987  \n",
       "...                 ...  \n",
       "1260           6.698265  \n",
       "1261           6.466242  \n",
       "1262           6.122535  \n",
       "1263           7.595101  \n",
       "1264           6.502539  \n",
       "\n",
       "[1265 rows x 11 columns]"
      ]
     },
     "execution_count": 5,
     "metadata": {},
     "output_type": "execute_result"
    }
   ],
   "source": [
    "data"
   ]
  },
  {
   "cell_type": "code",
   "execution_count": null,
   "metadata": {},
   "outputs": [],
   "source": []
  },
  {
   "cell_type": "markdown",
   "metadata": {},
   "source": [
    "### Sélection des features"
   ]
  },
  {
   "cell_type": "code",
   "execution_count": 6,
   "metadata": {},
   "outputs": [],
   "source": [
    "datacopy = data.copy()\n",
    "datacopy1 = data.copy()"
   ]
  },
  {
   "cell_type": "code",
   "execution_count": 7,
   "metadata": {},
   "outputs": [],
   "source": [
    "datacopy = datacopy.drop(['ENERGYSTARScore'], axis=1)"
   ]
  },
  {
   "cell_type": "markdown",
   "metadata": {},
   "source": [
    "### Split du dataset et encodage des variables catégorielles"
   ]
  },
  {
   "cell_type": "code",
   "execution_count": 8,
   "metadata": {},
   "outputs": [],
   "source": [
    "target = ['TotalGHGEmissions','SiteEnergyUse_log']"
   ]
  },
  {
   "cell_type": "code",
   "execution_count": 9,
   "metadata": {},
   "outputs": [],
   "source": [
    "X = datacopy.drop(target, axis=1).values\n",
    "y = datacopy['SiteEnergyUse_log'].values\n",
    "z = datacopy['TotalGHGEmissions'].values\n",
    "\n"
   ]
  },
  {
   "cell_type": "code",
   "execution_count": 10,
   "metadata": {},
   "outputs": [],
   "source": [
    "V = datacopy1.drop(target, axis=1).values\n",
    "t = datacopy1['SiteEnergyUse_log'].values"
   ]
  },
  {
   "cell_type": "code",
   "execution_count": 11,
   "metadata": {},
   "outputs": [],
   "source": [
    "from sklearn.preprocessing import LabelEncoder\n",
    "\n",
    "labelencoder_X_0 = LabelEncoder()\n",
    "X[:, 4] = labelencoder_X_0.fit_transform(X[:, 4])\n",
    "X[:, 0] = labelencoder_X_0.fit_transform(X[:, 0])\n",
    "X[:, 1] = labelencoder_X_0.fit_transform(X[:, 1])"
   ]
  },
  {
   "cell_type": "code",
   "execution_count": 12,
   "metadata": {},
   "outputs": [],
   "source": [
    "from sklearn.model_selection import train_test_split\n",
    "X_train, X_test, y_train, y_test = train_test_split(X, y, test_size = 0.2, random_state = 1)"
   ]
  },
  {
   "cell_type": "code",
   "execution_count": 13,
   "metadata": {},
   "outputs": [],
   "source": [
    "from sklearn.preprocessing import LabelEncoder\n",
    "\n",
    "labelencoder_V_0 = LabelEncoder()\n",
    "V[:, 4] = labelencoder_V_0.fit_transform(V[:, 4])\n",
    "V[:, 0] = labelencoder_V_0.fit_transform(V[:, 0])\n",
    "V[:, 1] = labelencoder_V_0.fit_transform(V[:, 1])\n",
    "from sklearn.model_selection import train_test_split\n",
    "V_train, V_test, y_train, y_test = train_test_split(V, t, test_size = 0.2, random_state = 1)\n",
    "from sklearn.preprocessing import StandardScaler\n",
    "sc = StandardScaler()\n",
    "V_train= sc.fit_transform(V_train)\n",
    "V_test = sc.transform(V_test)"
   ]
  },
  {
   "cell_type": "code",
   "execution_count": 14,
   "metadata": {},
   "outputs": [],
   "source": [
    "from sklearn.preprocessing import StandardScaler\n",
    "sc = StandardScaler()\n",
    "X_train= sc.fit_transform(X_train)\n",
    "X_test = sc.transform(X_test)"
   ]
  },
  {
   "cell_type": "code",
   "execution_count": null,
   "metadata": {},
   "outputs": [],
   "source": []
  },
  {
   "cell_type": "code",
   "execution_count": 15,
   "metadata": {},
   "outputs": [],
   "source": [
    "model_comparison = pd.DataFrame()"
   ]
  },
  {
   "cell_type": "code",
   "execution_count": 16,
   "metadata": {},
   "outputs": [],
   "source": [
    "influenceESS=pd.DataFrame() "
   ]
  },
  {
   "cell_type": "markdown",
   "metadata": {},
   "source": [
    "### Définition des fonctions des modèles"
   ]
  },
  {
   "cell_type": "markdown",
   "metadata": {},
   "source": [
    "#### Fonction d'estimation des meilleurs paramètres"
   ]
  },
  {
   "cell_type": "markdown",
   "metadata": {},
   "source": [
    "Pour éviter les répétitions, la fonction gridsearchCV est créée. Elle permet d'utiliser la fonction gridsearchCV de sklearn pour tester différentes combinaisons d'hyperparamètres et de pouvoir extraire les hyperparamètres associés au meilleur R²."
   ]
  },
  {
   "cell_type": "code",
   "execution_count": 17,
   "metadata": {},
   "outputs": [],
   "source": [
    "# Définir la fonction gridsearchresult pour obtenir les meilleurs hyperparamètre des différents modèle tester\n",
    "def gridsearchresults(model, param_grid, X_train, y_train, X_test, y_test):\n",
    "    grid = GridSearchCV(estimator=model, param_grid=param_grid, scoring='r2', verbose=3, n_jobs=-1)\n",
    "    \n",
    "    # Ajuster sur les différentes combinaisons de GridSearchCV\n",
    "    grid_result = grid.fit(X_train, y_train)\n",
    "    \n",
    "    #Afficher les meilleurs scores (r²) et meilleurs paramètres\n",
    "    print('Best Score: ', grid_result.best_score_)\n",
    "    print('Best Params: ', grid_result.best_params_)\n",
    "    \n",
    "    #Calculer les métrics avec sklearn.metrics et les afficher\n",
    "    mse = metrics.mean_squared_error(y_test, grid.predict(X_test))\n",
    "    rmse = np.sqrt(mse) #mse**(0.5)  \n",
    "    r2 = metrics.r2_score(y_test, grid.predict(X_test))\n",
    "    \n",
    "    print(\"Results of sklearn.metrics:\")\n",
    "    print(\"RMSE:\", rmse)\n",
    "    print(\"R-Squared:\", r2)"
   ]
  },
  {
   "cell_type": "markdown",
   "metadata": {},
   "source": [
    "#### Fonction d'évaluation des métriques"
   ]
  },
  {
   "cell_type": "markdown",
   "metadata": {},
   "source": [
    "La fonction suivante calcule les diverses métriques que l'on souhaite interpréter: Mean Absolute error (MAE), Root Mean Squarred Error (RMSE), le R squared et enfin le temps de test des combinaisons; et les retourne dans un dictionnaire."
   ]
  },
  {
   "cell_type": "code",
   "execution_count": 18,
   "metadata": {},
   "outputs": [],
   "source": [
    "def calcul_metrics(model,X_train, y_train, X_test, y_test):   \n",
    "    #Calculer les métrics avec sklearn.metrics et les afficher\n",
    "    mae = metrics.mean_absolute_error(y_test, model.predict(X_test))\n",
    "    mse = metrics.mean_squared_error(y_test, model.predict(X_test))\n",
    "    rmse = np.sqrt(mse) #mse**(0.5)  \n",
    "    r2 = metrics.r2_score(y_test, model.predict(X_test))\n",
    "    score = model.score(X_train, y_train)\n",
    "\n",
    "    \n",
    "    print(\"Results of sklearn.metrics:\")\n",
    "    print(\"Score:\", score)\n",
    "    print(\"MAE:\",mae)\n",
    "    print(\"MSE:\", mse)\n",
    "    print(\"RMSE:\", rmse)\n",
    "    print(\"R-Squared:\", r2)\n",
    "    \n",
    "    return dict(Score= score, r2 = r2, RMSE = rmse, MAE = mae)"
   ]
  },
  {
   "cell_type": "markdown",
   "metadata": {},
   "source": [
    "## Régression linéaire"
   ]
  },
  {
   "cell_type": "markdown",
   "metadata": {},
   "source": [
    "### Régression linéaire classique"
   ]
  },
  {
   "cell_type": "code",
   "execution_count": 19,
   "metadata": {
    "scrolled": true
   },
   "outputs": [
    {
     "name": "stdout",
     "output_type": "stream",
     "text": [
      "Durée 0.28s\n",
      "Results of sklearn.metrics:\n",
      "Score: 0.4447805507674947\n",
      "MAE: 0.36551807437914163\n",
      "MSE: 0.22216881598454274\n",
      "RMSE: 0.47134787151799334\n",
      "R-Squared: 0.33700750407900926\n"
     ]
    }
   ],
   "source": [
    "lr  = linear_model.LinearRegression()\n",
    "\n",
    "# Calculer le temps d'entraînement \n",
    "start_time = timeit.default_timer()\n",
    "\n",
    "# Ajuster les paramètres par rapport au données d'entraînements\n",
    "lr = lr.fit(X_train, y_train)\n",
    "\n",
    "duration_lr = timeit.default_timer() - start_time\n",
    "\n",
    "# Afficher le temps d'entraînement\n",
    "print ('Durée {:.2f}s'.format(duration_lr))\n",
    "\n",
    "# Calculer les métriques du modèles et créer un dictionnaire de ces données à insérer dans un df\n",
    "lr_result = calcul_metrics(lr,X_train, y_train, X_test, y_test)\n",
    "model_comparison = model_comparison.append(lr_result, ignore_index=True)"
   ]
  },
  {
   "cell_type": "code",
   "execution_count": 20,
   "metadata": {},
   "outputs": [
    {
     "data": {
      "text/html": [
       "<div>\n",
       "<style scoped>\n",
       "    .dataframe tbody tr th:only-of-type {\n",
       "        vertical-align: middle;\n",
       "    }\n",
       "\n",
       "    .dataframe tbody tr th {\n",
       "        vertical-align: top;\n",
       "    }\n",
       "\n",
       "    .dataframe thead th {\n",
       "        text-align: right;\n",
       "    }\n",
       "</style>\n",
       "<table border=\"1\" class=\"dataframe\">\n",
       "  <thead>\n",
       "    <tr style=\"text-align: right;\">\n",
       "      <th></th>\n",
       "      <th>Score</th>\n",
       "      <th>r2</th>\n",
       "      <th>RMSE</th>\n",
       "      <th>MAE</th>\n",
       "    </tr>\n",
       "  </thead>\n",
       "  <tbody>\n",
       "    <tr>\n",
       "      <th>0</th>\n",
       "      <td>0.444781</td>\n",
       "      <td>0.337008</td>\n",
       "      <td>0.471348</td>\n",
       "      <td>0.365518</td>\n",
       "    </tr>\n",
       "  </tbody>\n",
       "</table>\n",
       "</div>"
      ],
      "text/plain": [
       "      Score        r2      RMSE       MAE\n",
       "0  0.444781  0.337008  0.471348  0.365518"
      ]
     },
     "execution_count": 20,
     "metadata": {},
     "output_type": "execute_result"
    }
   ],
   "source": [
    "model_comparison"
   ]
  },
  {
   "cell_type": "code",
   "execution_count": null,
   "metadata": {},
   "outputs": [],
   "source": []
  },
  {
   "cell_type": "markdown",
   "metadata": {},
   "source": [
    "#### SVR Regression"
   ]
  },
  {
   "cell_type": "code",
   "execution_count": 21,
   "metadata": {},
   "outputs": [],
   "source": [
    "from sklearn.svm import LinearSVR\n",
    "svr = LinearSVR()\n",
    "\n",
    "param_grid = {'C' : np.logspace(-4, 0, 5),\n",
    "             'epsilon' : [ 0.01, 0.1, 0.5, 1, 2],\n",
    "             'loss' : [\"epsilon_insensitive\",\"squared_epsilon_insensitive\"],\n",
    "             'max_iter': [100, 1000, 10000]}"
   ]
  },
  {
   "cell_type": "code",
   "execution_count": 22,
   "metadata": {},
   "outputs": [
    {
     "name": "stdout",
     "output_type": "stream",
     "text": [
      "Fitting 5 folds for each of 150 candidates, totalling 750 fits\n",
      "Best Score:  0.3417072372304819\n",
      "Best Params:  {'C': 0.1, 'epsilon': 0.01, 'loss': 'epsilon_insensitive', 'max_iter': 100}\n",
      "Results of sklearn.metrics:\n",
      "RMSE: 0.4678650258597446\n",
      "R-Squared: 0.3467691666013578\n"
     ]
    },
    {
     "name": "stderr",
     "output_type": "stream",
     "text": [
      "C:\\Users\\hp\\anaconda3\\lib\\site-packages\\sklearn\\svm\\_base.py:1206: ConvergenceWarning: Liblinear failed to converge, increase the number of iterations.\n",
      "  warnings.warn(\n"
     ]
    }
   ],
   "source": [
    "gridsearchresults(svr, param_grid, X_train, y_train, X_test, y_test)"
   ]
  },
  {
   "cell_type": "code",
   "execution_count": 23,
   "metadata": {},
   "outputs": [
    {
     "name": "stdout",
     "output_type": "stream",
     "text": [
      "Durée 0.01s\n"
     ]
    }
   ],
   "source": [
    "#Récupérer les meilleurs paramètres suggérés ci-dessus et les renseigner dans modèle\n",
    "svr = LinearSVR( epsilon=0.01, tol=0.0001, C=0.1, loss='epsilon_insensitive', max_iter= 1000)\n",
    "start_time = timeit.default_timer()\n",
    "\n",
    "#Ajuster les données avec le meilleur paramètre recommandé\n",
    "svr = svr.fit(X_train, y_train)\n",
    "\n",
    "#Calculer le temps d'entraînement du modèle\n",
    "duration_svr = timeit.default_timer() - start_time\n",
    "print('Durée {:.2f}s'.format(duration_svr))\n"
   ]
  },
  {
   "cell_type": "code",
   "execution_count": 24,
   "metadata": {},
   "outputs": [
    {
     "name": "stdout",
     "output_type": "stream",
     "text": [
      "Results of sklearn.metrics:\n",
      "Score: 0.42646977929327146\n",
      "MAE: 0.35993949636854194\n",
      "MSE: 0.21883935809011115\n",
      "RMSE: 0.46780269140964886\n",
      "R-Squared: 0.3469432171074598\n"
     ]
    }
   ],
   "source": [
    "svr_result = calcul_metrics(svr,X_train, y_train, X_test, y_test)\n"
   ]
  },
  {
   "cell_type": "code",
   "execution_count": 25,
   "metadata": {},
   "outputs": [],
   "source": [
    "model_comparison = model_comparison.append(svr_result, ignore_index=True)"
   ]
  },
  {
   "cell_type": "markdown",
   "metadata": {},
   "source": [
    "### Random Forest Regressor"
   ]
  },
  {
   "cell_type": "markdown",
   "metadata": {},
   "source": [
    "#### Estimation des meilleurs paramètres"
   ]
  },
  {
   "cell_type": "markdown",
   "metadata": {},
   "source": [
    "Dans un premier temps, la librairie RandomizedSearchCV permet de tester aléatoirement quelques combinaisons d'hyperparamètres proposés ci-dessous pour réduire le nombre de valeurs à tester par hyperparamètre des modèles et donc le temps d'entraînement sur les différents combinaisons avec GridSearchCV."
   ]
  },
  {
   "cell_type": "code",
   "execution_count": 26,
   "metadata": {},
   "outputs": [
    {
     "name": "stdout",
     "output_type": "stream",
     "text": [
      "{'n_estimators': [200, 400, 600, 800, 1000, 1200, 1400, 1600, 1800, 2000], 'max_features': [2, 2, 3, 4, 4, 5, 6, 6, 7, 8], 'max_depth': [10, 20, 30, 40, 50, 60, 70, 80, 90, 100, 110, None], 'min_samples_split': [10, 50, 100, 300, 500], 'min_samples_leaf': [5, 25, 50, 150, 250], 'bootstrap': [True, False]}\n"
     ]
    }
   ],
   "source": [
    "n_estimators = [int(x) for x in np.linspace(start = 200, stop = 2000, num = 10)]\n",
    "max_features = [int(x) for x in np.linspace (start = 2, stop = X_train.shape[1], num = 10)]\n",
    "max_depth = [int(x) for x in np.linspace(10, 110, num = 11)]\n",
    "max_depth.append(None)\n",
    "min_samples_split = [10, 50, 100, 300, 500]\n",
    "min_samples_leaf = [5, 25, 50, 150, 250]\n",
    "bootstrap = [True, False]\n",
    "random_grid = {'n_estimators': n_estimators, \n",
    "               'max_features': max_features, \n",
    "               'max_depth': max_depth,\n",
    "               'min_samples_split': min_samples_split,\n",
    "               'min_samples_leaf': min_samples_leaf,\n",
    "               'bootstrap': bootstrap}\n",
    "print(random_grid)"
   ]
  },
  {
   "cell_type": "code",
   "execution_count": 27,
   "metadata": {},
   "outputs": [
    {
     "name": "stdout",
     "output_type": "stream",
     "text": [
      "Fitting 5 folds for each of 100 candidates, totalling 500 fits\n"
     ]
    },
    {
     "data": {
      "text/plain": [
       "RandomizedSearchCV(cv=5, estimator=RandomForestRegressor(), n_iter=100,\n",
       "                   n_jobs=-1,\n",
       "                   param_distributions={'bootstrap': [True, False],\n",
       "                                        'max_depth': [10, 20, 30, 40, 50, 60,\n",
       "                                                      70, 80, 90, 100, 110,\n",
       "                                                      None],\n",
       "                                        'max_features': [2, 2, 3, 4, 4, 5, 6, 6,\n",
       "                                                         7, 8],\n",
       "                                        'min_samples_leaf': [5, 25, 50, 150,\n",
       "                                                             250],\n",
       "                                        'min_samples_split': [10, 50, 100, 300,\n",
       "                                                              500],\n",
       "                                        'n_estimators': [200, 400, 600, 800,\n",
       "                                                         1000, 1200, 1400, 1600,\n",
       "                                                         1800, 2000]},\n",
       "                   random_state=42, verbose=2)"
      ]
     },
     "execution_count": 27,
     "metadata": {},
     "output_type": "execute_result"
    }
   ],
   "source": [
    "\n",
    "rfr = RandomForestRegressor()\n",
    "\n",
    "rfr_random = RandomizedSearchCV(\n",
    "    estimator = rfr, \n",
    "    param_distributions = random_grid, \n",
    "    n_iter = 100, \n",
    "    cv = 5, \n",
    "    verbose=2, \n",
    "    random_state=42, \n",
    "    n_jobs = -1)\n",
    "rfr_random.fit(X_train, y_train)"
   ]
  },
  {
   "cell_type": "code",
   "execution_count": 28,
   "metadata": {
    "scrolled": true
   },
   "outputs": [
    {
     "data": {
      "text/plain": [
       "{'n_estimators': 400,\n",
       " 'min_samples_split': 10,\n",
       " 'min_samples_leaf': 5,\n",
       " 'max_features': 3,\n",
       " 'max_depth': 60,\n",
       " 'bootstrap': False}"
      ]
     },
     "execution_count": 28,
     "metadata": {},
     "output_type": "execute_result"
    }
   ],
   "source": [
    "rfr_random.best_params_"
   ]
  },
  {
   "cell_type": "code",
   "execution_count": 29,
   "metadata": {},
   "outputs": [],
   "source": [
    "param_grid = {\n",
    "    'bootstrap': [False],\n",
    "    'max_depth': [10, 20, 30, 40, 50, 60],\n",
    "    'max_features':[3],\n",
    "    'min_samples_leaf': [10, 20, 40, 50, 60],\n",
    "    'min_samples_split': [10, 20, 40],\n",
    "    'n_estimators': [600, 800]\n",
    "}\n",
    "\n",
    "rfr = RandomForestRegressor()"
   ]
  },
  {
   "cell_type": "code",
   "execution_count": 30,
   "metadata": {},
   "outputs": [
    {
     "name": "stdout",
     "output_type": "stream",
     "text": [
      "Fitting 5 folds for each of 180 candidates, totalling 900 fits\n",
      "Best Score:  0.655791114099326\n",
      "Best Params:  {'bootstrap': False, 'max_depth': 20, 'max_features': 3, 'min_samples_leaf': 10, 'min_samples_split': 20, 'n_estimators': 600}\n",
      "Results of sklearn.metrics:\n",
      "RMSE: 0.37184986204402687\n",
      "R-Squared: 0.5873700362381278\n"
     ]
    }
   ],
   "source": [
    "gridsearchresults(rfr, param_grid, X_train, y_train, X_test, y_test)"
   ]
  },
  {
   "cell_type": "markdown",
   "metadata": {},
   "source": [
    "#### Modéliser avec les meilleurs paramètres"
   ]
  },
  {
   "cell_type": "code",
   "execution_count": 31,
   "metadata": {},
   "outputs": [
    {
     "name": "stdout",
     "output_type": "stream",
     "text": [
      "Durée 3.92s\n"
     ]
    }
   ],
   "source": [
    "rfr =  RandomForestRegressor(bootstrap= False, \n",
    "                             max_depth= 40, \n",
    "                             max_features= 3, \n",
    "                             min_samples_leaf= 10, \n",
    "                             min_samples_split=10, \n",
    "                             n_estimators= 800)\n",
    "start_time = timeit.default_timer()\n",
    "rfr = rfr.fit(X_train, y_train)\n",
    "duration_rfr = timeit.default_timer() - start_time\n",
    "print('Durée {:.2f}s'.format(duration_rfr))"
   ]
  },
  {
   "cell_type": "code",
   "execution_count": 32,
   "metadata": {},
   "outputs": [
    {
     "name": "stdout",
     "output_type": "stream",
     "text": [
      "Results of sklearn.metrics:\n",
      "Score: 0.7780484824681154\n",
      "MAE: 0.27294478758092083\n",
      "MSE: 0.13860196455718923\n",
      "RMSE: 0.3722928478458715\n",
      "R-Squared: 0.5863863161258558\n"
     ]
    }
   ],
   "source": [
    "rfr_result = calcul_metrics(rfr,X_train, y_train, X_test, y_test)"
   ]
  },
  {
   "cell_type": "code",
   "execution_count": 33,
   "metadata": {},
   "outputs": [],
   "source": [
    "model_comparison = model_comparison.append(rfr_result, ignore_index=True)"
   ]
  },
  {
   "cell_type": "code",
   "execution_count": 34,
   "metadata": {},
   "outputs": [],
   "source": [
    "influenceESS=influenceESS.append(rfr_result, ignore_index=True)"
   ]
  },
  {
   "cell_type": "markdown",
   "metadata": {},
   "source": [
    "## Comparaison des modèles"
   ]
  },
  {
   "cell_type": "code",
   "execution_count": 35,
   "metadata": {},
   "outputs": [],
   "source": [
    "duration = [duration_lr, duration_svr, duration_rfr]\n",
    "modele = ['Reg Lin','SVR', 'RandomForest', ]"
   ]
  },
  {
   "cell_type": "code",
   "execution_count": 36,
   "metadata": {},
   "outputs": [],
   "source": [
    "model_comparison['duration'] = duration"
   ]
  },
  {
   "cell_type": "code",
   "execution_count": null,
   "metadata": {},
   "outputs": [],
   "source": []
  },
  {
   "cell_type": "code",
   "execution_count": 37,
   "metadata": {},
   "outputs": [
    {
     "data": {
      "text/html": [
       "<div>\n",
       "<style scoped>\n",
       "    .dataframe tbody tr th:only-of-type {\n",
       "        vertical-align: middle;\n",
       "    }\n",
       "\n",
       "    .dataframe tbody tr th {\n",
       "        vertical-align: top;\n",
       "    }\n",
       "\n",
       "    .dataframe thead th {\n",
       "        text-align: right;\n",
       "    }\n",
       "</style>\n",
       "<table border=\"1\" class=\"dataframe\">\n",
       "  <thead>\n",
       "    <tr style=\"text-align: right;\">\n",
       "      <th></th>\n",
       "      <th>Score</th>\n",
       "      <th>r2</th>\n",
       "      <th>RMSE</th>\n",
       "      <th>MAE</th>\n",
       "      <th>duration</th>\n",
       "    </tr>\n",
       "  </thead>\n",
       "  <tbody>\n",
       "    <tr>\n",
       "      <th>0</th>\n",
       "      <td>0.444781</td>\n",
       "      <td>0.337008</td>\n",
       "      <td>0.471348</td>\n",
       "      <td>0.365518</td>\n",
       "      <td>0.281515</td>\n",
       "    </tr>\n",
       "    <tr>\n",
       "      <th>1</th>\n",
       "      <td>0.426470</td>\n",
       "      <td>0.346943</td>\n",
       "      <td>0.467803</td>\n",
       "      <td>0.359939</td>\n",
       "      <td>0.009502</td>\n",
       "    </tr>\n",
       "    <tr>\n",
       "      <th>2</th>\n",
       "      <td>0.778048</td>\n",
       "      <td>0.586386</td>\n",
       "      <td>0.372293</td>\n",
       "      <td>0.272945</td>\n",
       "      <td>3.920399</td>\n",
       "    </tr>\n",
       "  </tbody>\n",
       "</table>\n",
       "</div>"
      ],
      "text/plain": [
       "      Score        r2      RMSE       MAE  duration\n",
       "0  0.444781  0.337008  0.471348  0.365518  0.281515\n",
       "1  0.426470  0.346943  0.467803  0.359939  0.009502\n",
       "2  0.778048  0.586386  0.372293  0.272945  3.920399"
      ]
     },
     "execution_count": 37,
     "metadata": {},
     "output_type": "execute_result"
    }
   ],
   "source": [
    "model_comparison"
   ]
  },
  {
   "cell_type": "code",
   "execution_count": 53,
   "metadata": {},
   "outputs": [
    {
     "data": {
      "image/png": "[encoded data removed]",
      "text/plain": [
       "<Figure size 720x360 with 2 Axes>"
      ]
     },
     "metadata": {
      "needs_background": "light"
     },
     "output_type": "display_data"
    }
   ],
   "source": [
    "fig = plt.figure(figsize = (10,5))\n",
    "ax = fig.add_subplot(111)\n",
    "ax2 = ax.twinx()\n",
    "width = 0.1\n",
    "ind = np.arange(len(model_comparison))\n",
    "ax.set_ylabel('R²')\n",
    "ax2.set_ylabel(\"RMSE\")\n",
    "ax.set_xlabel('modèle')\n",
    "ax.bar(ind, model_comparison.r2, width, color='blue', label = 'R2')\n",
    "ax2.bar(ind + width, model_comparison.RMSE, width, color = 'orange', label = \"RMSE\")\n",
    "ax.set(xticks = (ind + 0.5 * width), xticklabels = modele)\n",
    "ax.legend(['R²'], bbox_to_anchor = (1.2, 1))\n",
    "ax2.legend([\"RMSE\"], bbox_to_anchor = (1.06, 0.87))\n",
    "plt.show()"
   ]
  },
  {
   "cell_type": "markdown",
   "metadata": {},
   "source": [
    "## Effet de l'EnergyStarScore "
   ]
  },
  {
   "cell_type": "code",
   "execution_count": 39,
   "metadata": {},
   "outputs": [],
   "source": [
    "from sklearn.preprocessing import LabelEncoder\n",
    "\n",
    "labelencoder_V_0 = LabelEncoder()\n",
    "V[:, 4] = labelencoder_V_0.fit_transform(V[:, 4])\n",
    "V[:, 0] = labelencoder_V_0.fit_transform(V[:, 0])\n",
    "V[:, 1] = labelencoder_V_0.fit_transform(V[:, 1])\n",
    "from sklearn.model_selection import train_test_split\n",
    "V_train, V_test, t_train, t_test = train_test_split(V, t, test_size = 0.2, random_state = 1)\n",
    "from sklearn.preprocessing import StandardScaler\n",
    "sc = StandardScaler()\n",
    "V_train= sc.fit_transform(V_train)\n",
    "V_test = sc.transform(V_test)"
   ]
  },
  {
   "cell_type": "code",
   "execution_count": 40,
   "metadata": {},
   "outputs": [
    {
     "name": "stdout",
     "output_type": "stream",
     "text": [
      "{'n_estimators': [200, 400, 600, 800, 1000, 1200, 1400, 1600, 1800, 2000], 'max_features': [2, 2, 3, 4, 4, 5, 6, 6, 7, 8], 'max_depth': [10, 20, 30, 40, 50, 60, 70, 80, 90, 100, 110, None], 'min_samples_split': [10, 50, 100, 300, 500], 'min_samples_leaf': [5, 25, 50, 150, 250], 'bootstrap': [True, False]}\n"
     ]
    }
   ],
   "source": [
    "n_estimators = [int(x) for x in np.linspace(start = 200, stop = 2000, num = 10)]\n",
    "max_features = [int(x) for x in np.linspace (start = 2, stop = X_train.shape[1], num = 10)]\n",
    "max_depth = [int(x) for x in np.linspace(10, 110, num = 11)]\n",
    "max_depth.append(None)\n",
    "min_samples_split = [10, 50, 100, 300, 500]\n",
    "min_samples_leaf = [5, 25, 50, 150, 250]\n",
    "bootstrap = [True, False]\n",
    "random_grid = {'n_estimators': n_estimators, \n",
    "               'max_features': max_features, \n",
    "               'max_depth': max_depth,\n",
    "               'min_samples_split': min_samples_split,\n",
    "               'min_samples_leaf': min_samples_leaf,\n",
    "               'bootstrap': bootstrap}\n",
    "print(random_grid)"
   ]
  },
  {
   "cell_type": "code",
   "execution_count": 41,
   "metadata": {},
   "outputs": [
    {
     "name": "stdout",
     "output_type": "stream",
     "text": [
      "Fitting 5 folds for each of 100 candidates, totalling 500 fits\n"
     ]
    },
    {
     "data": {
      "text/plain": [
       "RandomizedSearchCV(cv=5,\n",
       "                   estimator=RandomForestRegressor(bootstrap=False,\n",
       "                                                   max_depth=40, max_features=3,\n",
       "                                                   min_samples_leaf=10,\n",
       "                                                   min_samples_split=10,\n",
       "                                                   n_estimators=800),\n",
       "                   n_iter=100, n_jobs=-1,\n",
       "                   param_distributions={'bootstrap': [True, False],\n",
       "                                        'max_depth': [10, 20, 30, 40, 50, 60,\n",
       "                                                      70, 80, 90, 100, 110,\n",
       "                                                      None],\n",
       "                                        'max_features': [2, 2, 3, 4, 4, 5, 6, 6,\n",
       "                                                         7, 8],\n",
       "                                        'min_samples_leaf': [5, 25, 50, 150,\n",
       "                                                             250],\n",
       "                                        'min_samples_split': [10, 50, 100, 300,\n",
       "                                                              500],\n",
       "                                        'n_estimators': [200, 400, 600, 800,\n",
       "                                                         1000, 1200, 1400, 1600,\n",
       "                                                         1800, 2000]},\n",
       "                   random_state=42, verbose=2)"
      ]
     },
     "execution_count": 41,
     "metadata": {},
     "output_type": "execute_result"
    }
   ],
   "source": [
    "rfrV = RandomForestRegressor()\n",
    "rfr_random = RandomizedSearchCV(\n",
    "    estimator = rfr, \n",
    "    param_distributions = random_grid, \n",
    "    n_iter = 100, \n",
    "    cv = 5, \n",
    "    verbose=2, \n",
    "    random_state=42, \n",
    "    n_jobs = -1)\n",
    "rfr_random.fit(V_train, t_train)"
   ]
  },
  {
   "cell_type": "code",
   "execution_count": 42,
   "metadata": {},
   "outputs": [
    {
     "data": {
      "text/plain": [
       "{'n_estimators': 1800,\n",
       " 'min_samples_split': 10,\n",
       " 'min_samples_leaf': 5,\n",
       " 'max_features': 4,\n",
       " 'max_depth': 70,\n",
       " 'bootstrap': False}"
      ]
     },
     "execution_count": 42,
     "metadata": {},
     "output_type": "execute_result"
    }
   ],
   "source": [
    "rfr_random.best_params_"
   ]
  },
  {
   "cell_type": "code",
   "execution_count": 43,
   "metadata": {},
   "outputs": [],
   "source": [
    "param_grid = {\n",
    "    'bootstrap': [False],\n",
    "    'max_depth': [10, 20, 30, 40, 50, 60],\n",
    "    'max_features':[4],\n",
    "    'min_samples_leaf': [10, 20, 40, 50, 60],\n",
    "    'min_samples_split': [10, 20, 40],\n",
    "    'n_estimators': [600, 1800]\n",
    "}\n",
    "rfrV = RandomForestRegressor()"
   ]
  },
  {
   "cell_type": "code",
   "execution_count": 44,
   "metadata": {},
   "outputs": [
    {
     "name": "stdout",
     "output_type": "stream",
     "text": [
      "Fitting 5 folds for each of 180 candidates, totalling 900 fits\n",
      "Best Score:  0.7053971343094895\n",
      "Best Params:  {'bootstrap': False, 'max_depth': 60, 'max_features': 4, 'min_samples_leaf': 10, 'min_samples_split': 20, 'n_estimators': 600}\n",
      "Results of sklearn.metrics:\n",
      "RMSE: 0.3489005535842361\n",
      "R-Squared: 0.636730589304271\n"
     ]
    }
   ],
   "source": [
    "gridsearchresults(rfrV, param_grid, V_train, t_train, V_test, t_test)"
   ]
  },
  {
   "cell_type": "code",
   "execution_count": 45,
   "metadata": {},
   "outputs": [
    {
     "name": "stdout",
     "output_type": "stream",
     "text": [
      "Durée 2.47s\n"
     ]
    }
   ],
   "source": [
    "rfrV =  RandomForestRegressor(bootstrap= False, \n",
    "                             max_depth= 40, \n",
    "                             max_features= 4, \n",
    "                             min_samples_leaf= 10, \n",
    "                             min_samples_split=10, \n",
    "                             n_estimators= 600)\n",
    "start_time = timeit.default_timer()\n",
    "rfrV = rfrV.fit(V_train, t_train)\n",
    "duration_rfr = timeit.default_timer() - start_time\n",
    "print('Durée {:.2f}s'.format(duration_rfr))"
   ]
  },
  {
   "cell_type": "code",
   "execution_count": 46,
   "metadata": {},
   "outputs": [
    {
     "name": "stdout",
     "output_type": "stream",
     "text": [
      "Results of sklearn.metrics:\n",
      "Score: 0.8251125430942217\n",
      "MAE: 0.24869602421156833\n",
      "MSE: 0.12257389968267941\n",
      "RMSE: 0.3501055550582987\n",
      "R-Squared: 0.6342170014938426\n"
     ]
    }
   ],
   "source": [
    "rfr_resultV = calcul_metrics(rfrV,V_train, t_train, V_test, t_test)"
   ]
  },
  {
   "cell_type": "code",
   "execution_count": 47,
   "metadata": {},
   "outputs": [],
   "source": [
    "influenceESS=influenceESS.append(rfr_resultV, ignore_index=True)"
   ]
  },
  {
   "cell_type": "code",
   "execution_count": 48,
   "metadata": {},
   "outputs": [
    {
     "data": {
      "text/html": [
       "<div>\n",
       "<style scoped>\n",
       "    .dataframe tbody tr th:only-of-type {\n",
       "        vertical-align: middle;\n",
       "    }\n",
       "\n",
       "    .dataframe tbody tr th {\n",
       "        vertical-align: top;\n",
       "    }\n",
       "\n",
       "    .dataframe thead th {\n",
       "        text-align: right;\n",
       "    }\n",
       "</style>\n",
       "<table border=\"1\" class=\"dataframe\">\n",
       "  <thead>\n",
       "    <tr style=\"text-align: right;\">\n",
       "      <th></th>\n",
       "      <th>Score</th>\n",
       "      <th>r2</th>\n",
       "      <th>RMSE</th>\n",
       "      <th>MAE</th>\n",
       "    </tr>\n",
       "  </thead>\n",
       "  <tbody>\n",
       "    <tr>\n",
       "      <th>0</th>\n",
       "      <td>0.778048</td>\n",
       "      <td>0.586386</td>\n",
       "      <td>0.372293</td>\n",
       "      <td>0.272945</td>\n",
       "    </tr>\n",
       "    <tr>\n",
       "      <th>1</th>\n",
       "      <td>0.825113</td>\n",
       "      <td>0.634217</td>\n",
       "      <td>0.350106</td>\n",
       "      <td>0.248696</td>\n",
       "    </tr>\n",
       "  </tbody>\n",
       "</table>\n",
       "</div>"
      ],
      "text/plain": [
       "      Score        r2      RMSE       MAE\n",
       "0  0.778048  0.586386  0.372293  0.272945\n",
       "1  0.825113  0.634217  0.350106  0.248696"
      ]
     },
     "execution_count": 48,
     "metadata": {},
     "output_type": "execute_result"
    }
   ],
   "source": [
    "influenceESS"
   ]
  },
  {
   "cell_type": "code",
   "execution_count": 49,
   "metadata": {},
   "outputs": [],
   "source": [
    "modele1 = ['SansESS', 'AvecESS']"
   ]
  },
  {
   "cell_type": "code",
   "execution_count": 50,
   "metadata": {},
   "outputs": [
    {
     "name": "stderr",
     "output_type": "stream",
     "text": [
      "C:\\Users\\hp\\anaconda3\\lib\\site-packages\\seaborn\\_decorators.py:36: FutureWarning: Pass the following variables as keyword args: x, y. From version 0.12, the only valid positional argument will be `data`, and passing other arguments without an explicit keyword will result in an error or misinterpretation.\n",
      "  warnings.warn(\n"
     ]
    },
    {
     "data": {
      "text/plain": [
       "<AxesSubplot:ylabel='r2'>"
      ]
     },
     "execution_count": 50,
     "metadata": {},
     "output_type": "execute_result"
    },
    {
     "data": {
      "image/png": "[encoded data removed]",
      "text/plain": [
       "<Figure size 432x288 with 1 Axes>"
      ]
     },
     "metadata": {
      "needs_background": "light"
     },
     "output_type": "display_data"
    }
   ],
   "source": [
    "sns.barplot(modele1, influenceESS.r2)"
   ]
  },
  {
   "cell_type": "code",
   "execution_count": 54,
   "metadata": {},
   "outputs": [
    {
     "data": {
      "image/png": "[encoded data removed]",
      "text/plain": [
       "<Figure size 720x360 with 2 Axes>"
      ]
     },
     "metadata": {
      "needs_background": "light"
     },
     "output_type": "display_data"
    }
   ],
   "source": [
    "fig = plt.figure(figsize = (10,5))\n",
    "ax = fig.add_subplot(111)\n",
    "ax2 = ax.twinx()\n",
    "width = 0.1\n",
    "ind = np.arange(len(influenceESS))\n",
    "ax.set_ylabel('R²')\n",
    "ax2.set_ylabel(\"RMSE\")\n",
    "ax.set_xlabel('modele1')\n",
    "ax.bar(ind, influenceESS.r2, width, color='blue', label = 'R²')\n",
    "ax2.bar(ind + width, influenceESS.RMSE, width, color = 'orange', label = \"RMSE\")\n",
    "ax.set(xticks = (ind + 0.5 * width), xticklabels = modele1)\n",
    "ax.legend(['R²'], bbox_to_anchor = (1.2, 1))\n",
    "ax2.legend([\"RMSE\"], bbox_to_anchor = (1.06, 0.87))\n",
    "plt.show()"
   ]
  },
  {
   "cell_type": "code",
   "execution_count": null,
   "metadata": {},
   "outputs": [],
   "source": []
  },
  {
   "cell_type": "code",
   "execution_count": null,
   "metadata": {},
   "outputs": [],
   "source": [
    "  "
   ]
  },
  {
   "cell_type": "code",
   "execution_count": null,
   "metadata": {},
   "outputs": [],
   "source": []
  }
 ],
 "metadata": {
  "kernelspec": {
   "display_name": "Python 3 (ipykernel)",
   "language": "python",
   "name": "python3"
  },
  "language_info": {
   "codemirror_mode": {
    "name": "ipython",
    "version": 3
   },
   "file_extension": ".py",
   "mimetype": "text/x-python",
   "name": "python",
   "nbconvert_exporter": "python",
   "pygments_lexer": "ipython3",
   "version": "3.9.12"
  }
 },
 "nbformat": 4,
 "nbformat_minor": 4
}
